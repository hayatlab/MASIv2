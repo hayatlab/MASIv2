{
 "cells": [
  {
   "cell_type": "code",
   "execution_count": 1,
   "metadata": {},
   "outputs": [],
   "source": [
    "import time\n",
    "import umap\n",
    "import torch\n",
    "import numpy as np\n",
    "import pandas as pd\n",
    "import scanpy as sc\n",
    "import MASIv2 as masi\n",
    "\n",
    "import torch.nn as nn\n",
    "\n",
    "from sklearn.preprocessing import StandardScaler\n",
    "from sklearn.metrics.cluster import adjusted_rand_score\n",
    "from sklearn.metrics.cluster import normalized_mutual_info_score\n",
    "\n",
    "from scipy import sparse\n",
    "\n",
    "import squidpy as sq\n",
    "\n",
    "import warnings\n",
    "warnings.filterwarnings(\"ignore\")"
   ]
  },
  {
   "cell_type": "code",
   "execution_count": null,
   "metadata": {},
   "outputs": [],
   "source": []
  },
  {
   "cell_type": "code",
   "execution_count": 137,
   "metadata": {},
   "outputs": [],
   "source": [
    "##Slide-seqV2 mouse kidney\n",
    "#file = \"D:/MASIv2_data/Marshall_kidney/Marshall_kidney_normal_Puck_200104_01.h5ad\"\n",
    "#file = \"D:/MASIv2_data/Marshall_kidney/Marshall_kidney_normal_Puck_191204_18.h5ad\"\n",
    "file = \"D:/MASIv2_data/Marshall_kidney/Marshall_kidney_normal_Puck_200104_04.h5ad\"\n",
    "#file = \"D:/MASIv2_data/Marshall_kidney/Marshall_kidney_autosomal_Puck_200131_20.h5ad\"\n",
    "#file = \"D:/MASIv2_data/Marshall_kidney/Marshall_kidney_autosomal_Puck_191223_24.h5ad\"\n",
    "#file = \"D:/MASIv2_data/Marshall_kidney/Marshall_kidney_dkd_Puck_191206_04.h5ad\"\n",
    "#file = \"D:/MASIv2_data/Marshall_kidney/Marshall_kidney_dkd_Puck_191206_02.h5ad\"\n",
    "#file = \"D:/MASIv2_data/Marshall_kidney/Marshall_kidney_autosomal_Puck_200210_03.h5ad\"\n",
    "#file = \"D:/MASIv2_data/Marshall_kidney/Marshall_kidney_autosomal_Puck_200104_07.h5ad\"\n",
    "#file = \"D:/MASIv2_data/Marshall_kidney/Marshall_kidney_autosomal_Puck_200102_09.h5ad\"\n",
    "#file = \"D:/MASIv2_data/Marshall_kidney/Marshall_kidney_autosomal_Puck_200104_10.h5ad\"\n",
    "\n",
    "target = sc.read_h5ad(file)\n",
    "target.var.index = target.var['feature_name'].values\n",
    "target.obsm['spatial']=target.obsm['X_spatial']\n",
    "target.obs['cell_type']=target.obs['author_cell_type']\n",
    "adata = target.copy()"
   ]
  },
  {
   "cell_type": "code",
   "execution_count": 4,
   "metadata": {},
   "outputs": [],
   "source": [
    "adata = target['Puck_191109_09']\n",
    "adata.var.index = adata.var['feature_name'].values"
   ]
  },
  {
   "cell_type": "code",
   "execution_count": null,
   "metadata": {},
   "outputs": [],
   "source": []
  },
  {
   "cell_type": "markdown",
   "metadata": {},
   "source": [
    "Run MASIv2"
   ]
  },
  {
   "cell_type": "code",
   "execution_count": 5,
   "metadata": {},
   "outputs": [],
   "source": [
    "markers = pd.read_csv(\"D:/ReferenceMarkers/mouse_kidney_miao_50markers.csv\",header=0,index_col=0)\n",
    "cell_markers={}\n",
    "for m in markers.columns:\n",
    "    cell_markers[m]=markers[m].values.tolist()"
   ]
  },
  {
   "cell_type": "code",
   "execution_count": 51,
   "metadata": {},
   "outputs": [],
   "source": [
    "marker_list = []\n",
    "for k, v in cell_markers.items():\n",
    "    marker_list += v\n",
    "marker_list = list(set(marker_list))\n",
    "marker_list = [i for i in marker_list if i in adata.var.index]\n",
    "len(marker_list)\n",
    "ad = adata[:,marker_list]"
   ]
  },
  {
   "cell_type": "code",
   "execution_count": 30,
   "metadata": {},
   "outputs": [],
   "source": [
    "marker_source = []\n",
    "for k, v in cell_markers.items():\n",
    "    marker_source += v\n",
    "marker_source = list(set(marker_source))\n",
    "marker_source = [i for i in marker_source if i in source.var.index]\n",
    "len(marker_source)\n",
    "source = source[:,marker_source]\n",
    "\n",
    "ref = masi.gene2mat(ad=source,cell_markers=cell_markers,if_tfidf=True,if_thresh=True,thresh=0.9)\n",
    "ref = ref.reshape(ref.shape[0],ref.shape[1]*ref.shape[2])\n",
    "scaler = StandardScaler()\n",
    "ref = scaler.fit_transform(ref)\n",
    "ref = pd.DataFrame(ref)\n",
    "\n",
    "ref['cell_type']=source.obs['cell_type'].values\n",
    "ref = ref.groupby('cell_type').mean()\n",
    "\n",
    "cellnames = [i for i in cell_markers.keys()]\n",
    "ref = ref.reindex(cellnames)\n",
    "\n",
    "ref.fillna(0, inplace=True)"
   ]
  },
  {
   "cell_type": "code",
   "execution_count": 52,
   "metadata": {},
   "outputs": [
    {
     "name": "stdout",
     "output_type": "stream",
     "text": [
      "(3771, 11)\n"
     ]
    }
   ],
   "source": [
    "##prepare graph 1.1\n",
    "ad = adata[:,marker_list].copy()\n",
    "\n",
    "scores, y_pred = masi.gene2cell(ad=ad,cell_markers=cell_markers,use_weight=False,\n",
    "                                if_tfidf=True,if_thresh=True,thresh=0.9,use_knn=False)\n",
    "\n",
    "#sc.pp.neighbors(ad, n_neighbors=10, use_rep='spatial',metric='euclidean',key_added='Adj')#\n",
    "#adj = ad.obsp['Adj_connectivities']\n",
    "#sq.gr.spatial_neighbors(ad, n_rings=2, coord_type=\"grid\", n_neighs=8,spatial_key='spatial')\n",
    "sq.gr.spatial_neighbors(ad, n_rings=2, coord_type=\"grid\", n_neighs=8,spatial_key='X_spatial')\n",
    "adj = ad.obsp[\"spatial_connectivities\"]\n",
    "\n",
    "##prepare graph 1.2\n",
    "#adj = target2_v2.obsp['spatial_connectivities']\n",
    "#adj = np.array(adj.todense()).flatten()\n",
    "adj = np.array(adj.todense()).flatten()\n",
    "src_node = np.repeat([i for i in range(scores.shape[0])],repeats=scores.shape[0])\n",
    "dst_node = np.tile([i for i in range(scores.shape[0])],scores.shape[0])\n",
    "\n",
    "edge_data = pd.DataFrame({'Src':src_node,'Dst':dst_node,'Weight':adj})\n",
    "edge_data = edge_data[edge_data['Weight']>0]"
   ]
  },
  {
   "cell_type": "code",
   "execution_count": 53,
   "metadata": {},
   "outputs": [],
   "source": [
    "mat = masi.gene2mat(ad=ad,cell_markers=cell_markers,if_tfidf=True,if_thresh=True,thresh=0.9)\n",
    "mat = mat.reshape(mat.shape[0],mat.shape[1]*mat.shape[2])\n",
    "\n",
    "##either\n",
    "#graph = masi.process(mat,edge_data)\n",
    "##or\n",
    "graph = dgl.graph((edge_data['Src'].values.tolist(), edge_data['Dst'].values.tolist()))\n",
    "node_features = torch.from_numpy(mat)\n",
    "graph.ndata['feat'] = node_features\n",
    "\n",
    "##add self loop\n",
    "graph = dgl.add_self_loop(graph)"
   ]
  },
  {
   "cell_type": "code",
   "execution_count": 54,
   "metadata": {},
   "outputs": [
    {
     "name": "stdout",
     "output_type": "stream",
     "text": [
      "(3771, 11)\n"
     ]
    }
   ],
   "source": [
    "scores, y_pred = masi.gene2cell(ad=ad,cell_markers=cell_markers,use_weight=False,\n",
    "                                if_tfidf=True,if_thresh=True,thresh=0.9,use_knn=False)\n",
    "\n",
    "y_pred = y_pred.values\n",
    "\n",
    "labels = y_pred.copy()\n",
    "labels = pd.DataFrame(labels)\n",
    "labels.columns = cell_markers.keys()"
   ]
  },
  {
   "cell_type": "code",
   "execution_count": 55,
   "metadata": {},
   "outputs": [],
   "source": [
    "student = masi.GCNClassifier_noref(output_dim=labels.shape[1],marker_dim=50,t1=0.1,t2=20.0)#5.0 or 2.0 temp\n",
    "_ = masi.train_noref(graph, student, 200, y_pred)\n",
    "\n",
    "student.to(torch.device(\"cpu\"))\n",
    "graph = graph.to(torch.device(\"cpu\"))\n",
    "student.temp = torch.tensor(1.0, requires_grad=False)\n",
    "\n",
    "#student.eval()\n",
    "\n",
    "fea,y_pred = student(graph,graph.ndata['feat'])\n",
    "fea = torch.Tensor.cpu(fea).detach().numpy()\n",
    "y_pred = torch.Tensor.cpu(y_pred).detach().numpy()\n",
    "\n",
    "y_pred = pd.DataFrame(y_pred)\n",
    "y_pred.columns = cell_markers.keys()\n",
    "fea = pd.DataFrame(fea)\n",
    "fea.columns = cell_markers.keys()\n",
    "\n",
    "labels = y_pred.copy()\n",
    "scores = fea.copy()"
   ]
  },
  {
   "cell_type": "code",
   "execution_count": 56,
   "metadata": {},
   "outputs": [],
   "source": [
    "#Label1 accuracy\n",
    "labels1 = np.argmax(labels.values,axis=1)\n",
    "knn_pred = []\n",
    "for i in labels1:\n",
    "    knn_pred.append(labels.columns[i])\n",
    "knn_pred = np.array(knn_pred)\n",
    "annotation = knn_pred.copy()"
   ]
  },
  {
   "cell_type": "code",
   "execution_count": null,
   "metadata": {},
   "outputs": [],
   "source": [
    "sc.set_figure_params(scanpy=True, dpi=300, dpi_save=300)\n",
    "adata.obs['Annotation']=annotation\n",
    "sc.pl.spatial(adata, color=\"cell_type_original\", spot_size=0.015, frameon=False)\n",
    "sc.pl.spatial(adata, color=\"Annotation\", spot_size=0.015, frameon=False)"
   ]
  }
 ],
 "metadata": {
  "kernelspec": {
   "display_name": "Python 3 (ipykernel)",
   "language": "python",
   "name": "python3"
  },
  "language_info": {
   "codemirror_mode": {
    "name": "ipython",
    "version": 3
   },
   "file_extension": ".py",
   "mimetype": "text/x-python",
   "name": "python",
   "nbconvert_exporter": "python",
   "pygments_lexer": "ipython3",
   "version": "3.9.13"
  }
 },
 "nbformat": 4,
 "nbformat_minor": 4
}
